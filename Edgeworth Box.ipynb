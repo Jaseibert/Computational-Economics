{
 "cells": [
  {
   "cell_type": "markdown",
   "metadata": {},
   "source": [
    "# Edgeworth Box\n",
    "\n",
    "The Edgeworth box is a fundamental concept taught to undergraduate economics students studying microeconomic theory. "
   ]
  },
  {
   "cell_type": "code",
   "execution_count": 47,
   "metadata": {},
   "outputs": [],
   "source": [
    "%matplotlib inline\n",
    "import matplotlib.pyplot as plt\n",
    "import numpy as np"
   ]
  },
  {
   "cell_type": "markdown",
   "metadata": {},
   "source": [
    "### The Model\n",
    "Consider a small, simple open economy with two firms, that produces two goods.\n",
    "\n",
    "1. Apple MacBooks\n",
    "2. Ford Broncos (100% Electric)  \n",
    "\n",
    "#### Production Functions\n",
    "We model the production functions for each of these goods to be in the form of Cobb Douglas production functions that are homogeneous of degree 1 (HOD 1). This would imply that the production process for each of them exhibit constant returns to scale (CRS).\n",
    "<br><center>$F(K_A, L_A) = {K^\\alpha}{L^{1-\\alpha}}$</center>\n",
    "\n",
    "<center>$G(K_B, L_B) = {K^\\beta}{L^{1-\\beta}}$</center>\n",
    "\n",
    "For each firm the ratio resource input is defined using the superscripted parameters ( $\\alpha, \\beta$ ). These parameters are constrained to: ${0 \\leq \\alpha, \\beta \\leq 1}$"
   ]
  },
  {
   "cell_type": "code",
   "execution_count": 163,
   "metadata": {},
   "outputs": [],
   "source": [
    "Alpha = 0.6\n",
    "Beta = 0.4\n",
    "\n",
    "def F(K, L, alpha=Alpha):\n",
    "    return (K**alpha) * (L**(1-alpha))\n",
    "\n",
    "def G(K, L, beta=Beta):\n",
    "    return (K**beta) * (L**(1-beta))"
   ]
  },
  {
   "cell_type": "markdown",
   "metadata": {},
   "source": [
    "#### Constraints\n",
    "\n",
    "In our simple economy each firm operates within the bounds of two resource constraints: \n",
    "<br><br><center>$\\bar{K} = Capital_{Maximum}$</center>\n",
    "<center>$\\bar{L} = Labor_{Maximum}$</center>\n",
    "\n",
    "These resource constraints are the aggregation between both firms capital and labor resources.\n",
    "<br><br><center>$\\bar{L} = L_A + L_B$</center>\n",
    "<center>$\\bar{K} = K_A + K_B$</center>\n",
    "\n",
    "We can define the level of resources utilized by Ford, by simply rearranging the resource constraints define above.\n",
    "<br><br><center>$L_B = \\bar{L} - L_A$</center> \n",
    "<center>$K_B = \\bar{K} - K_A$</center> \n",
    "\n",
    "Using the same logic, we can do the same for Apple.\n",
    "<br><br><center>$L_A = \\bar{L} - L_B$</center> \n",
    "<center>$K_A = \\bar{K} - K_B$</center> "
   ]
  },
  {
   "cell_type": "code",
   "execution_count": 164,
   "metadata": {},
   "outputs": [],
   "source": [
    "K_Bar = 100\n",
    "L_Bar = 100"
   ]
  },
  {
   "cell_type": "markdown",
   "metadata": {},
   "source": [
    "#### Profit Maximization\n",
    "In our model, both producers seek to maximize their profits:\n",
    "<br><br><center>$\\max\\limits_{K_A, L_A}  F(K_A, L_A)-wL_A-rK_A$</center>\n",
    "\n",
    "<center>$\\max\\limits_{K_B, L_B}  F(K_B, L_B)-wL_B-rK_B$</center>"
   ]
  },
  {
   "cell_type": "markdown",
   "metadata": {},
   "source": [
    "### Solve the Model\n",
    "We use the first order conditions (FOCs) for each firm to find:\n",
    "\n",
    "#### Marginal Products for Apple\n",
    "\n",
    "When we re-arrange the FOC, we identify the Marginal products for Apple.\n",
    "\n",
    "$MP_{K_A} = w = G_K(\\bar{K} - K_B, \\bar{L} - L_B) = {\\alpha}{(\\bar{K} - K_B)^{\\alpha-1}}{(\\bar{L} - L_B)^{1-\\alpha}}$\n",
    "\n",
    "$MP_{K_A} = r = G_L(\\bar{K} - K_B, \\bar{L} - L_B)= ({1 - \\alpha})({\\bar{K} - K_B)^{\\alpha}}({\\bar{L} - L_B)^{-\\alpha}}$\n",
    "\n",
    "\n",
    "\n",
    "#### Marginal Products for Ford\n",
    "\n",
    "When we re-arrange the FOC, we identify the Marginal products for Ford.\n",
    "\n",
    "$MP_{K_B} = w=F_K(K_B, L_B) = {\\beta}{K^{\\beta-1}}{L^{1-\\beta}}$\n",
    "\n",
    "$MP_{L_B} = r=F_L(K_B, L_B) = ({1 - \\beta}){K^{\\beta}}{L^{1-\\beta}}$\n",
    "\n",
    "\n",
    "#### Marginal Rate of Technical Substitution\n",
    "\n",
    "The marginal rate of technical substitution is defined as the rate at which labor can be exchanged for capital. Using this logic, we can rearrange the marginal products for each firm to identify the marginal rate of technical substitution for each.\n",
    "\n",
    "<br><center>$MRTS_A = \\frac{w}{r}=\\frac{G_K(\\bar{K} - K_A, \\bar{L} - L_A)}{G_L(\\bar{K} - K_A, \\bar{L} - L_A)} = \\frac {{\\alpha}{(\\bar{K} - K_B)^{\\alpha-1}}{(\\bar{L} - L_B)^{1-\\alpha}}}{({1 - \\alpha})({\\bar{K} - K_B)^{\\alpha}}({\\bar{L} - L_B)^{-\\alpha}}} = \\frac {({1 - \\alpha})}{\\alpha} \\frac {{(\\bar{K} - K_B)}} {{(\\bar{L} - L_B)}}$</center>\n",
    "<br><center>$MRTS_B = \\frac{w}{r}=\\frac{F_K(K_B, L_B)}{F_L(K_B, L_B)} = \\frac {{\\beta}{K^{\\beta-1}}{L^{1-\\beta}}} {({1 - \\beta}){K^{\\beta}}{L^{1-\\beta}}} = \\frac {(1-\\beta)}{\\beta} \\frac {K_B}{L_B}$</center>"
   ]
  },
  {
   "cell_type": "code",
   "execution_count": 165,
   "metadata": {},
   "outputs": [],
   "source": [
    "def marginal_rate_of_technical_subsititution(labor_allocation=None, capital_allocation=None, beta=Beta):\n",
    "    ''''''\n",
    "    return ((1-beta)/beta)*(capital_allocation/labor_allocation)"
   ]
  },
  {
   "cell_type": "markdown",
   "metadata": {},
   "source": [
    "#### Solve\n",
    "Pareto Effeciency implies that the MRTS for both firms are equal for both firms. The Edgeworth box will allow for a visual representation of the isoquants that intersect at the Pareto efficient allocation of K and L.\n",
    "\n",
    "#### Efficienct Allocation Condition\n",
    "We set the two Marginal Rate of Technical Subsitutions equal which defines the effecient allocation condition.\n",
    "\n",
    "<br><center>$\\frac {({1 - \\alpha})}{\\alpha} \\frac {{(\\bar{K} - K_B)}} {{(\\bar{L} - L_B)}} = \\frac {w}{r} = \\frac {(1-\\beta)}{\\beta} \\frac {K_B}{L_B}$</center>\n",
    "\n",
    "#### Efficiency Curve\n",
    "We re-arrage the efficient allocation condition to get Ford's capital allocation as a function of any given labor allocation.\n",
    "\n",
    "<center>$ K_B(L_B) = \\frac {L_B \\cdot \\bar{K}} {\\frac {\\beta (1-\\alpha)}{\\alpha (1-\\beta)} (\\bar{L}-L_B)+L_B}$</center>"
   ]
  },
  {
   "cell_type": "code",
   "execution_count": 275,
   "metadata": {},
   "outputs": [],
   "source": [
    "def efficiency_curve(labor_allocation=None,\n",
    "                     K=None, \n",
    "                     L=None, \n",
    "                     alpha=Alpha, \n",
    "                     beta=Beta):\n",
    "    ''''''\n",
    "    A = (1-beta) * alpha\n",
    "    B = (1-alpha) * beta\n",
    "    numerator = labor_allocation*K\n",
    "    denominator = ((B/A)*(L-labor_allocation)) + labor_allocation\n",
    "    return numerator / denominator\n",
    "\n",
    "def isoquant_curve(vector, quantity, param):\n",
    "    return (quantity / (vector**(1-param)))**(1/param)"
   ]
  },
  {
   "cell_type": "code",
   "execution_count": 276,
   "metadata": {},
   "outputs": [],
   "source": [
    "def solve(labor_allocation, K=K_Bar, L=L_Bar, alpha=Alpha, beta=Beta):\n",
    "    capital_allocation = efficiency_curve(labor_allocation, K, L)\n",
    "    RTS = round(marginal_rate_of_technical_subsititution(labor_allocation, capital_allocation), 2)\n",
    "    q_macbooks = round(F(K-capital_allocation, L-labor_allocation), 2)\n",
    "    q_broncos = round(G(capital_allocation, labor_allocation), 2)\n",
    "    return round(capital_allocation, 2), q_macbooks, q_broncos, RTS"
   ]
  },
  {
   "cell_type": "markdown",
   "metadata": {},
   "source": [
    "#### Edgeworth Box\n"
   ]
  },
  {
   "cell_type": "code",
   "execution_count": 273,
   "metadata": {},
   "outputs": [],
   "source": [
    "def edgeworth_box(labor_allocation, K=K_Bar, L=L_Bar, alpha=Alpha, beta=Beta):\n",
    "    capital_allocation, q_macbooks, q_broncos, RTS = solve(labor_allocation)\n",
    "    fig, ax = plt.subplots(figsize=(9,7))\n",
    "    ax.set_xlim(0, L)\n",
    "    ax.set_ylim(0, K)\n",
    "    ax.plot(labor_allocation, capital_allocation,'k-')\n",
    "    labor_vector = np.arange(1, L)\n",
    "    Apple_Isoquant = isoquant_curve(L-labor_vector, q_macbooks, alpha)\n",
    "    Ford_Isoquant = isoquant_curve(labor_vector, q_broncos, beta)\n",
    "    ax.plot(labor_vector, K-Apple_Isoquant,'g-')\n",
    "    ax.plot(labor_vector, Ford_Isoquant, 'r-')\n",
    "    ax.plot(labor_allocation, capital_allocation,'o')\n",
    "    ax.vlines(labor_allocation, 0, capital_allocation, \"grey\", linestyles=\"dashed\")\n",
    "    ax.text(-6, capital_allocation-2, r'$K^*$', fontsize=14)\n",
    "    ax.hlines(capital_allocation, 0, labor_allocation, \"grey\", linestyles=\"dashed\")\n",
    "    ax.text(labor_allocation-2, -6, r'$L^*$', fontsize=14)\n",
    "    ax.text(-12, -12, r'$Output_{Ford}$',fontsize=16)\n",
    "    ax.text(L, K, r'$Output_{Apple}$',fontsize=16)\n",
    "    ax.set_xlabel(r'$Labor_{Ford}$', fontsize=16)\n",
    "    ax.set_ylabel(r'$Capital_{Ford}$', fontsize=16)\n",
    "    print(f'Effecient Labor = {labor_allocation}\\nEffecient Capital = {capital_allocation}\\nQuantity of Macbooks = {q_macbooks}\\nQuantity of Broncos = {q_broncos}\\nMarginal Rate of Technical Subsitution = {RTS}')"
   ]
  },
  {
   "cell_type": "code",
   "execution_count": 274,
   "metadata": {},
   "outputs": [
    {
     "name": "stdout",
     "output_type": "stream",
     "text": [
      "Effecient Labor = 50\n",
      "Effecient Capital = 69.23\n",
      "Quantity of Macbooks = 37.36\n",
      "Quantity of Broncos = 56.95\n",
      "Marginal Rate of Technical Subsitution = 2.08\n"
     ]
    },
    {
     "data": {
      "image/png": "[encoded data removed]",
      "text/plain": [
       "<Figure size 648x504 with 1 Axes>"
      ]
     },
     "metadata": {
      "needs_background": "light"
     },
     "output_type": "display_data"
    }
   ],
   "source": [
    "edgeworth_box(50)"
   ]
  },
  {
   "cell_type": "markdown",
   "metadata": {},
   "source": [
    "### Conclusion"
   ]
  }
 ],
 "metadata": {
  "kernelspec": {
   "display_name": "Python 3",
   "language": "python",
   "name": "python3"
  },
  "language_info": {
   "codemirror_mode": {
    "name": "ipython",
    "version": 3
   },
   "file_extension": ".py",
   "mimetype": "text/x-python",
   "name": "python",
   "nbconvert_exporter": "python",
   "pygments_lexer": "ipython3",
   "version": "3.8.3"
  }
 },
 "nbformat": 4,
 "nbformat_minor": 4
}
