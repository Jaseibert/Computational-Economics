{
 "cells": [
  {
   "cell_type": "markdown",
   "metadata": {},
   "source": [
    "# Edgeworth Box\n",
    "\n",
    "The Edgeworth box is a fundamental concepts talk to undergraduate economics students studying micro economic theory. "
   ]
  },
  {
   "cell_type": "code",
   "execution_count": 5,
   "metadata": {},
   "outputs": [],
   "source": [
    "%matplotlib inline\n",
    "import matplotlib.pyplot as plt\n",
    "import numpy as np"
   ]
  },
  {
   "cell_type": "markdown",
   "metadata": {},
   "source": [
    "$\\frac{F_K(K_A, L_A)}{F_L(K_A, L_A)} = \\frac{w}{r}$"
   ]
  },
  {
   "cell_type": "code",
   "execution_count": 6,
   "metadata": {},
   "outputs": [],
   "source": [
    "ALPHA = 0.6\n",
    "BETA = 0.4\n",
    "K_MAX = 100\n",
    "L_MAX = 100\n",
    "p = 1 "
   ]
  },
  {
   "cell_type": "markdown",
   "metadata": {},
   "source": [
    "Create the functions"
   ]
  },
  {
   "cell_type": "code",
   "execution_count": null,
   "metadata": {},
   "outputs": [],
   "source": [
    "def F(K, L, alpha=ALPHA):\n",
    "    return (K**alpha) * (L**(1-alpha))\n",
    "\n",
    "def G(K, L, beta=BETA):\n",
    "    return (K**beta) * (L**(1-beta))"
   ]
  },
  {
   "cell_type": "markdown",
   "metadata": {},
   "source": []
  },
  {
   "cell_type": "code",
   "execution_count": null,
   "metadata": {},
   "outputs": [],
   "source": [
    "def budget_constraint(c1, p1, p2, I):\n",
    "    return (I/p2)-(p1/p2)*c1\n",
    "\n",
    "def isoquant_curve(L, Q, mu):\n",
    "    return (Q / (L ** (1 - mu)))**( 1 / mu )\n",
    "\n",
    "def marginal_rate_of_technical_subsititution(alpha, KA, LA):\n",
    "    return (alpha/(1-alpha))*(KA/LA)\n",
    "\n",
    "def efficiency_locus(L, Kbar=K_MAX, L_BAR=L_MAX, alpha=ALPHA, beta=BETA):\n",
    "    ''''''\n",
    "    a = ( 1 - alpha) / alpha\n",
    "    b = ( 1 - beta) / beta\n",
    "    return b * L * K_bar/(a * (L_bar - L) + b * L)"
   ]
  },
  {
   "cell_type": "markdown",
   "metadata": {},
   "source": []
  },
  {
   "cell_type": "markdown",
   "metadata": {},
   "source": []
  },
  {
   "cell_type": "code",
   "execution_count": null,
   "metadata": {},
   "outputs": [],
   "source": [
    "def solve():\n",
    "    KA = edgeworth(LA, Kbar, Lbar,alpha, beta)\n",
    "    RTS = marginal_rate_of_technical_subsititution(alpha, KA, LA)\n",
    "    QA = F(KA, LA, alpha)\n",
    "    QM = G(Kbar-KA, Lbar-LA, beta)\n",
    "    print(f'(LA,KA)=({LA}, {KA}) (QA, QM)=({QA}, {QM}) RTS={RTS}')\n",
    "    return"
   ]
  },
  {
   "cell_type": "markdown",
   "metadata": {},
   "source": []
  },
  {
   "cell_type": "code",
   "execution_count": null,
   "metadata": {},
   "outputs": [],
   "source": [
    "def edgeplot(LA, K_MAX, L_MAX, alpha=ALPHA, beta=BETA):\n",
    "    '''''' \n",
    "    fig, ax = plt.subplots(figsize=(7,6))\n",
    "    ax.set_xlim(0, L_MAX)\n",
    "    ax.set_ylim(0, K_MAX)\n",
    "    ax.plot(La, edgeworth(La, Kbar,Lbar,alpha,beta),'k-')\n",
    "    La = np.arange(1, L)\n",
    "    isoq(La, QA, alpha)\n",
    "    ax.plot(La, )\n",
    "    \n",
    "    Kbar-isoq(Lbar-La, QM, beta)\n",
    "    ax.plot(La, ,'g-')\n",
    "    ax.plot(LA, KA,'ob')\n",
    "    \n",
    "    ax.vlines(LA,0,KA, linestyles=\"dashed\")\n",
    "    ax.hlines(KA,0,LA, linestyles=\"dashed\")\n",
    "    \n",
    "    ax.text(-100,-100,r'$O_A$',fontsize=16)\n",
    "    ax.text(Lbar,Kbar,r'$Out_M$',fontsize=16)\n",
    "    \n",
    "    ax.set_xlabel('$L_A -- Labor$', fontsize=16)\n",
    "    ax.set_ylabel('$K_A - Capital$', fontsize=16)\n",
    "    #plt.show()\n",
    "    \n",
    "def production_possibility_frontier_plot(LA, Kbar=KBAR, Lbar=LBAR,alpha=ALPHA,beta=BETA):\n",
    "    \"\"\"Draw a production possibility frontier\n",
    "    arguments:\n",
    "    LA -- labor allocated to ag, from which calculate QA(Ka(La),La)\n",
    "    \"\"\"\n",
    "    KA = edgeworth(LA, Kbar, Lbar,alpha, beta)\n",
    "    RTS = (alpha/(1-alpha))*(KA/LA)\n",
    "    QA = F( KA,LA,alpha)\n",
    "    QM = G(Kbar-KA,Lbar-LA,beta)\n",
    "    ax.scatter(QA,QM)\n",
    "    La = np.arange(0,Lbar)\n",
    "    Ka = edgeworth(La, Kbar, Lbar,alpha, beta)\n",
    "    Qa = F(Ka,La,alpha)\n",
    "    Qm = G(Kbar-Ka,Lbar-La,beta)\n",
    "    ax.set_xlim(0, Lbar)\n",
    "    ax.set_ylim(0, Kbar)\n",
    "    ax.plot(Qa, Qm,'k-')\n",
    "    ax.set_xlabel(r'$Q_A$',fontsize=18)\n",
    "    ax.set_ylabel(r'$Q_B$',fontsize=18)\n",
    "    plt.show()"
   ]
  },
  {
   "cell_type": "markdown",
   "metadata": {},
   "source": []
  },
  {
   "cell_type": "code",
   "execution_count": null,
   "metadata": {},
   "outputs": [],
   "source": [
    "def wreq(p,a=ALPHA, b=BETA):\n",
    "    B = ((1-a)/(1-b))*(a/(1-a))**a * ((1-b)/b)**b\n",
    "    return B*p\n",
    "\n",
    "def ssline(a=ALPHA, b=BETA):\n",
    "    p = np.linspace(0.1,10,100)\n",
    "    plt.title('The Stolper-Samuelson line')\n",
    "    plt.xlabel(r'$p = \\frac{P_a}{P_m}$', fontsize=18)\n",
    "    plt.ylabel(r'$ \\frac{w}{r}$', fontsize=18)\n",
    "    plt.plot(p,wreq(p, a, b))"
   ]
  },
  {
   "cell_type": "markdown",
   "metadata": {},
   "source": []
  }
 ],
 "metadata": {
  "kernelspec": {
   "display_name": "Python 3",
   "language": "python",
   "name": "python3"
  },
  "language_info": {
   "codemirror_mode": {
    "name": "ipython",
    "version": 3
   },
   "file_extension": ".py",
   "mimetype": "text/x-python",
   "name": "python",
   "nbconvert_exporter": "python",
   "pygments_lexer": "ipython3",
   "version": "3.8.3"
  }
 },
 "nbformat": 4,
 "nbformat_minor": 4
}
